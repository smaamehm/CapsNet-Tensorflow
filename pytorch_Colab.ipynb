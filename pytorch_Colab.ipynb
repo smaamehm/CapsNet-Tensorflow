{
  "nbformat": 4,
  "nbformat_minor": 0,
  "metadata": {
    "colab": {
      "name": "pytorch_Colab.ipynb",
      "version": "0.3.2",
      "provenance": [],
      "include_colab_link": true
    },
    "kernelspec": {
      "name": "python3",
      "display_name": "Python 3"
    },
    "accelerator": "GPU"
  },
  "cells": [
    {
      "cell_type": "markdown",
      "metadata": {
        "id": "view-in-github",
        "colab_type": "text"
      },
      "source": [
        "<a href=\"https://colab.research.google.com/github/smaamehm/CapsNet-Tensorflow/blob/master/pytorch_Colab.ipynb\" target=\"_parent\"><img src=\"https://colab.research.google.com/assets/colab-badge.svg\" alt=\"Open In Colab\"/></a>"
      ]
    },
    {
      "cell_type": "code",
      "metadata": {
        "id": "Cf1ES1jn_z6m",
        "colab_type": "code",
        "colab": {}
      },
      "source": [
        "from __future__ import print_function, division\n",
        "\n",
        "import torch\n",
        "import torch.nn as nn\n",
        "import torch.optim as optim\n",
        "from torch.optim import lr_scheduler\n",
        "import numpy as np\n",
        "import torchvision\n",
        "from torchvision import datasets, models, transforms\n",
        "import matplotlib.pyplot as plt\n",
        "import time\n",
        "import os\n",
        "import copy\n",
        "from PIL import Image\n",
        "from numpy  import array\n",
        "pilTrans = transforms.ToPILImage()\n",
        "plt.ion()   # interactive mode"
      ],
      "execution_count": 0,
      "outputs": []
    },
    {
      "cell_type": "code",
      "metadata": {
        "id": "q-MU0J4TMZHy",
        "colab_type": "code",
        "colab": {}
      },
      "source": [
        "corpus_name = \"hymenoptera_data\"\n",
        "data_dir = os.path.join(\"/content/gdrive/My Drive/data\", corpus_name)"
      ],
      "execution_count": 0,
      "outputs": []
    },
    {
      "cell_type": "code",
      "metadata": {
        "id": "Zjk0y3G4NQf_",
        "colab_type": "code",
        "colab": {
          "base_uri": "https://localhost:8080/",
          "height": 69
        },
        "outputId": "6c05ff4f-421c-491f-8aa6-1e9b138243d1"
      },
      "source": [
        "#Load Data\n",
        "# Data augmentation and normalization for training\n",
        "# Just normalization for validation\n",
        "data_transforms = {\n",
        "    'train': transforms.Compose([\n",
        "        transforms.RandomResizedCrop(224),\n",
        "        transforms.RandomHorizontalFlip(),\n",
        "        transforms.ToTensor(),\n",
        "        transforms.Normalize([0.485, 0.456, 0.406], [0.229, 0.224, 0.225])\n",
        "    ]),\n",
        "    'val': transforms.Compose([\n",
        "        transforms.Resize(256),\n",
        "        transforms.CenterCrop(224),\n",
        "        transforms.ToTensor(),\n",
        "        transforms.Normalize([0.485, 0.456, 0.406], [0.229, 0.224, 0.225])\n",
        "    ]),\n",
        "}\n",
        "\n",
        "#data_dir = '/home/aamir/hymenoptera_data'\n",
        "image_datasets = {x: datasets.ImageFolder(os.path.join(data_dir, x), data_transforms[x]) for x in ['train', 'val']}\n",
        "dataloaders = {x: torch.utils.data.DataLoader(image_datasets[x], batch_size=4,\n",
        "                                             shuffle=False, num_workers=4)\n",
        "              for x in ['train', 'val']}\n",
        "dataset_sizes = {x: len(image_datasets[x]) for x in ['train', 'val']}\n",
        "class_names = image_datasets['train'].classes\n",
        "print(type(image_datasets))\n",
        "print (dataset_sizes)\n",
        "print(class_names)\n",
        "#Visualize a few images"
      ],
      "execution_count": 3,
      "outputs": [
        {
          "output_type": "stream",
          "text": [
            "<class 'dict'>\n",
            "{'train': 244, 'val': 153}\n",
            "['ants', 'bees']\n"
          ],
          "name": "stdout"
        }
      ]
    },
    {
      "cell_type": "code",
      "metadata": {
        "id": "XbqOmqirNoL3",
        "colab_type": "code",
        "colab": {
          "base_uri": "https://localhost:8080/",
          "height": 148
        },
        "outputId": "32381641-b511-407f-c698-a3544d2df1d4"
      },
      "source": [
        "def imshow(inp, title=None):\n",
        "    \"\"\"Imshow for Tensor.\"\"\"\n",
        "    inp = inp.numpy().transpose((1, 2, 0))\n",
        "    mean = np.array([0.485, 0.456, 0.406])\n",
        "    std = np.array([0.229, 0.224, 0.225])\n",
        "    inp = std * inp + mean\n",
        "    inp = np.clip(inp, 0, 1)\n",
        "    plt.imshow(inp)\n",
        "    if title is not None:\n",
        "        plt.title(title)\n",
        "    plt.pause(0.001)  # pause a bit so that plots are updated\n",
        "\n",
        "fig = plt.figure()\n",
        "images_so_far = 0\n",
        "'''with torch.no_grad():\n",
        "    for i, (inputs, labels) in enumerate(dataloaders['val']):\n",
        "        for j in range(inputs.size()[0]):\n",
        "            images_so_far += 1\n",
        "            ax = plt.subplot(20 // 2, 2, images_so_far)\n",
        "            ax.axis('off')\n",
        "            imshow(inputs.cpu().data[j])\n",
        "            print (images_so_far)'''\n",
        "\n",
        "# Get a batch of training data\n",
        "inputs, classes = next(iter(dataloaders['train']))\n",
        "\n",
        "# Make a grid from batch\n",
        "out = torchvision.utils.make_grid(inputs)\n",
        "imshow(out, title=[class_names[x] for x in classes])"
      ],
      "execution_count": 4,
      "outputs": [
        {
          "output_type": "display_data",
          "data": {
            "image/png": "[encoded data removed]",
            "text/plain": [
              "<Figure size 432x288 with 1 Axes>"
            ]
          },
          "metadata": {
            "tags": []
          }
        }
      ]
    },
    {
      "cell_type": "code",
      "metadata": {
        "id": "7GvHMJ2rNxFU",
        "colab_type": "code",
        "colab": {
          "base_uri": "https://localhost:8080/",
          "height": 10834
        },
        "outputId": "98486d64-4a26-4d99-ec22-504d0d6fb5c5"
      },
      "source": [
        "#Training the model\n",
        "\n",
        "def train_model(model, criterion, optimizer, scheduler, num_epochs=25):\n",
        "    since = time.time()\n",
        "    itr_epoch = 0\n",
        "    itr_phase = 0\n",
        "    best_model_wts = copy.deepcopy(model.state_dict())\n",
        "    best_acc = 0.0\n",
        "\n",
        "    for epoch in range(num_epochs):\n",
        "        print('Epoch {}/{}'.format(epoch, num_epochs - 1))\n",
        "        print('-' * 10)\n",
        "        itr_epoch += 1\n",
        "        print('itr_epoch',itr_epoch)\n",
        "        # Each epoch has a training and validation phase\n",
        "        for phase in ['train','val']:\n",
        "            itr_input = 0\n",
        "            itr_phase += 1\n",
        "            print('itr_phase', itr_phase)\n",
        "            if phase == 'train':\n",
        "                scheduler.step()\n",
        "                model.train()  # Set model to training mode\n",
        "            else:\n",
        "                model.eval()   # Set model to evaluate mode\n",
        "\n",
        "            running_loss = 0.0\n",
        "            running_corrects = 0\n",
        "\n",
        "            # Iterate over data\n",
        "            for inputs, labels in dataloaders[phase]:\n",
        "                #print('label', labels)\n",
        "                itr_input += 1\n",
        "                print('itr_input', itr_input)\n",
        "                #inputs = inputs.(device)\n",
        "                #labels = labels.(device)\n",
        "                #zero the parameter gradients\n",
        "                optimizer.zero_grad()\n",
        "\n",
        "                # forward\n",
        "                # track history if only in train\n",
        "                with torch.set_grad_enabled(phase == 'train'):\n",
        "                    outputs = model(inputs)\n",
        "                    _, preds = torch.max(outputs, 1)\n",
        "                    loss = criterion(outputs, labels)\n",
        "                    #print('labels',labels)\n",
        "                    # backward + optimize only if in training phase\n",
        "                    if phase == 'train':\n",
        "                        loss.backward()\n",
        "                        optimizer.step()\n",
        "\n",
        "                # statistics\n",
        "                running_loss += loss.item() * inputs.size(0)\n",
        "                running_corrects += torch.sum(preds == labels.data)\n",
        "                #print('running',running_corrects, running_loss)\n",
        "            epoch_loss = running_loss / dataset_sizes[phase]\n",
        "            epoch_acc = running_corrects.double() / dataset_sizes[phase]\n",
        "\n",
        "            print('{} Loss: {:.4f} Acc: {:.4f}'.format(\n",
        "                phase, epoch_loss, epoch_acc))\n",
        "\n",
        "            # deep copy the model\n",
        "            if phase == 'val' and epoch_acc > best_acc:\n",
        "                best_acc = epoch_acc\n",
        "                best_model_wts = copy.deepcopy(model.state_dict())\n",
        "\n",
        "        print()\n",
        "\n",
        "    time_elapsed = time.time() - since\n",
        "    print('Training complete in {:.0f}m {:.0f}s'.format(\n",
        "        time_elapsed // 60, time_elapsed % 60))\n",
        "    print('Best val Acc: {:4f}'.format(best_acc))\n",
        "\n",
        "    # load best model weights\n",
        "    model.load_state_dict(best_model_wts)\n",
        "    return model\n",
        "\n",
        "#Visualizing the model predictions\n",
        "def visualize_model(model, num_images=20):\n",
        "    was_training = model.training\n",
        "    model.eval()\n",
        "    images_so_far = 0\n",
        "    fig = plt.figure()\n",
        "\n",
        "    with torch.no_grad():\n",
        "        for i, (inputs, labels) in enumerate(dataloaders['val']):\n",
        "            #inputs = inputs.to(device)\n",
        "            #labels = labels.to(device)\n",
        "            print ('label', labels)\n",
        "\n",
        "            outputs = model(inputs)\n",
        "            _, preds = torch.max(outputs, 1)\n",
        "\n",
        "            for j in range(inputs.size()[0]):\n",
        "                images_so_far += 1\n",
        "                ax = plt.subplot(num_images//2, 2, images_so_far)\n",
        "                ax.axis('off')\n",
        "                ax.set_title('predicted: {}'.format(class_names[preds[j]]))\n",
        "                imshow(inputs.cpu().data[j])\n",
        "\n",
        "                if images_so_far == num_images:\n",
        "                    model.train(mode=was_training)\n",
        "                    return\n",
        "        model.train(mode=was_training)\n",
        "\n",
        "#Load a pretrained model and reset final fully connected layer.\n",
        "\n",
        "model_ft = models.resnet18(pretrained=True)\n",
        "num_ftrs = model_ft.fc.in_features\n",
        "model_ft.fc = nn.Linear(num_ftrs, 2)\n",
        "\n",
        "model_ft = model_ft\n",
        "\n",
        "criterion = nn.CrossEntropyLoss()\n",
        "\n",
        "# Observe that all parameters are being optimized\n",
        "optimizer_ft = optim.SGD(model_ft.parameters(), lr=0.001, momentum=0.9)\n",
        "\n",
        "print ('Decay LR by a factor of 0.1 every 7 epochs')\n",
        "exp_lr_scheduler = lr_scheduler.StepLR(optimizer_ft, step_size=7, gamma=0.1)\n",
        "\n",
        "model_ft = train_model(model_ft,criterion, optimizer_ft, exp_lr_scheduler, num_epochs=5)\n",
        "visualize_model(model_ft)"
      ],
      "execution_count": 5,
      "outputs": [
        {
          "output_type": "stream",
          "text": [
            "Decay LR by a factor of 0.1 every 7 epochs\n",
            "Epoch 0/4\n",
            "----------\n",
            "itr_epoch 1\n",
            "itr_phase 1\n",
            "itr_input 1\n",
            "itr_input 2\n",
            "itr_input 3\n",
            "itr_input 4\n",
            "itr_input 5\n",
            "itr_input 6\n",
            "itr_input 7\n",
            "itr_input 8\n",
            "itr_input 9\n",
            "itr_input 10\n",
            "itr_input 11\n",
            "itr_input 12\n",
            "itr_input 13\n",
            "itr_input 14\n",
            "itr_input 15\n",
            "itr_input 16\n",
            "itr_input 17\n",
            "itr_input 18\n",
            "itr_input 19\n",
            "itr_input 20\n",
            "itr_input 21\n",
            "itr_input 22\n",
            "itr_input 23\n",
            "itr_input 24\n",
            "itr_input 25\n",
            "itr_input 26\n",
            "itr_input 27\n",
            "itr_input 28\n",
            "itr_input 29\n",
            "itr_input 30\n",
            "itr_input 31\n",
            "itr_input 32\n",
            "itr_input 33\n",
            "itr_input 34\n",
            "itr_input 35\n",
            "itr_input 36\n",
            "itr_input 37\n",
            "itr_input 38\n",
            "itr_input 39\n",
            "itr_input 40\n",
            "itr_input 41\n",
            "itr_input 42\n",
            "itr_input 43\n",
            "itr_input 44\n",
            "itr_input 45\n",
            "itr_input 46\n",
            "itr_input 47\n",
            "itr_input 48\n",
            "itr_input 49\n",
            "itr_input 50\n",
            "itr_input 51\n",
            "itr_input 52\n",
            "itr_input 53\n",
            "itr_input 54\n",
            "itr_input 55\n",
            "itr_input 56\n",
            "itr_input 57\n",
            "itr_input 58\n",
            "itr_input 59\n",
            "itr_input 60\n",
            "itr_input 61\n",
            "train Loss: 0.7439 Acc: 0.8975\n",
            "itr_phase 2\n",
            "itr_input 1\n",
            "itr_input 2\n",
            "itr_input 3\n",
            "itr_input 4\n",
            "itr_input 5\n",
            "itr_input 6\n",
            "itr_input 7\n",
            "itr_input 8\n",
            "itr_input 9\n",
            "itr_input 10\n",
            "itr_input 11\n",
            "itr_input 12\n",
            "itr_input 13\n",
            "itr_input 14\n",
            "itr_input 15\n",
            "itr_input 16\n",
            "itr_input 17\n",
            "itr_input 18\n",
            "itr_input 19\n",
            "itr_input 20\n",
            "itr_input 21\n",
            "itr_input 22\n",
            "itr_input 23\n",
            "itr_input 24\n",
            "itr_input 25\n",
            "itr_input 26\n",
            "itr_input 27\n",
            "itr_input 28\n",
            "itr_input 29\n",
            "itr_input 30\n",
            "itr_input 31\n",
            "itr_input 32\n",
            "itr_input 33\n",
            "itr_input 34\n",
            "itr_input 35\n",
            "itr_input 36\n",
            "itr_input 37\n",
            "itr_input 38\n",
            "itr_input 39\n",
            "val Loss: 13.9383 Acc: 0.5425\n",
            "\n",
            "Epoch 1/4\n",
            "----------\n",
            "itr_epoch 2\n",
            "itr_phase 3\n",
            "itr_input 1\n",
            "itr_input 2\n",
            "itr_input 3\n",
            "itr_input 4\n",
            "itr_input 5\n",
            "itr_input 6\n",
            "itr_input 7\n",
            "itr_input 8\n",
            "itr_input 9\n",
            "itr_input 10\n",
            "itr_input 11\n",
            "itr_input 12\n",
            "itr_input 13\n",
            "itr_input 14\n",
            "itr_input 15\n",
            "itr_input 16\n",
            "itr_input 17\n",
            "itr_input 18\n",
            "itr_input 19\n",
            "itr_input 20\n",
            "itr_input 21\n",
            "itr_input 22\n",
            "itr_input 23\n",
            "itr_input 24\n",
            "itr_input 25\n",
            "itr_input 26\n",
            "itr_input 27\n",
            "itr_input 28\n",
            "itr_input 29\n",
            "itr_input 30\n",
            "itr_input 31\n",
            "itr_input 32\n",
            "itr_input 33\n",
            "itr_input 34\n",
            "itr_input 35\n",
            "itr_input 36\n",
            "itr_input 37\n",
            "itr_input 38\n",
            "itr_input 39\n",
            "itr_input 40\n",
            "itr_input 41\n",
            "itr_input 42\n",
            "itr_input 43\n",
            "itr_input 44\n",
            "itr_input 45\n",
            "itr_input 46\n",
            "itr_input 47\n",
            "itr_input 48\n",
            "itr_input 49\n",
            "itr_input 50\n",
            "itr_input 51\n",
            "itr_input 52\n",
            "itr_input 53\n",
            "itr_input 54\n",
            "itr_input 55\n",
            "itr_input 56\n",
            "itr_input 57\n",
            "itr_input 58\n",
            "itr_input 59\n",
            "itr_input 60\n",
            "itr_input 61\n",
            "train Loss: 9.5092 Acc: 0.5984\n",
            "itr_phase 4\n",
            "itr_input 1\n",
            "itr_input 2\n",
            "itr_input 3\n",
            "itr_input 4\n",
            "itr_input 5\n",
            "itr_input 6\n",
            "itr_input 7\n",
            "itr_input 8\n",
            "itr_input 9\n",
            "itr_input 10\n",
            "itr_input 11\n",
            "itr_input 12\n",
            "itr_input 13\n",
            "itr_input 14\n",
            "itr_input 15\n",
            "itr_input 16\n",
            "itr_input 17\n",
            "itr_input 18\n",
            "itr_input 19\n",
            "itr_input 20\n",
            "itr_input 21\n",
            "itr_input 22\n",
            "itr_input 23\n",
            "itr_input 24\n",
            "itr_input 25\n",
            "itr_input 26\n",
            "itr_input 27\n",
            "itr_input 28\n",
            "itr_input 29\n",
            "itr_input 30\n",
            "itr_input 31\n",
            "itr_input 32\n",
            "itr_input 33\n",
            "itr_input 34\n",
            "itr_input 35\n",
            "itr_input 36\n",
            "itr_input 37\n",
            "itr_input 38\n",
            "itr_input 39\n",
            "val Loss: 29.8926 Acc: 0.5425\n",
            "\n",
            "Epoch 2/4\n",
            "----------\n",
            "itr_epoch 3\n",
            "itr_phase 5\n",
            "itr_input 1\n",
            "itr_input 2\n",
            "itr_input 3\n",
            "itr_input 4\n",
            "itr_input 5\n",
            "itr_input 6\n",
            "itr_input 7\n",
            "itr_input 8\n",
            "itr_input 9\n",
            "itr_input 10\n",
            "itr_input 11\n",
            "itr_input 12\n",
            "itr_input 13\n",
            "itr_input 14\n",
            "itr_input 15\n",
            "itr_input 16\n",
            "itr_input 17\n",
            "itr_input 18\n",
            "itr_input 19\n",
            "itr_input 20\n",
            "itr_input 21\n",
            "itr_input 22\n",
            "itr_input 23\n",
            "itr_input 24\n",
            "itr_input 25\n",
            "itr_input 26\n",
            "itr_input 27\n",
            "itr_input 28\n",
            "itr_input 29\n",
            "itr_input 30\n",
            "itr_input 31\n",
            "itr_input 32\n",
            "itr_input 33\n",
            "itr_input 34\n",
            "itr_input 35\n",
            "itr_input 36\n",
            "itr_input 37\n",
            "itr_input 38\n",
            "itr_input 39\n",
            "itr_input 40\n",
            "itr_input 41\n",
            "itr_input 42\n",
            "itr_input 43\n",
            "itr_input 44\n",
            "itr_input 45\n",
            "itr_input 46\n",
            "itr_input 47\n",
            "itr_input 48\n",
            "itr_input 49\n",
            "itr_input 50\n",
            "itr_input 51\n",
            "itr_input 52\n",
            "itr_input 53\n",
            "itr_input 54\n",
            "itr_input 55\n",
            "itr_input 56\n",
            "itr_input 57\n",
            "itr_input 58\n",
            "itr_input 59\n",
            "itr_input 60\n",
            "itr_input 61\n",
            "train Loss: 8.7891 Acc: 0.4549\n",
            "itr_phase 6\n",
            "itr_input 1\n",
            "itr_input 2\n",
            "itr_input 3\n",
            "itr_input 4\n",
            "itr_input 5\n",
            "itr_input 6\n",
            "itr_input 7\n",
            "itr_input 8\n",
            "itr_input 9\n",
            "itr_input 10\n",
            "itr_input 11\n",
            "itr_input 12\n",
            "itr_input 13\n",
            "itr_input 14\n",
            "itr_input 15\n",
            "itr_input 16\n",
            "itr_input 17\n",
            "itr_input 18\n",
            "itr_input 19\n",
            "itr_input 20\n",
            "itr_input 21\n",
            "itr_input 22\n",
            "itr_input 23\n",
            "itr_input 24\n",
            "itr_input 25\n",
            "itr_input 26\n",
            "itr_input 27\n",
            "itr_input 28\n",
            "itr_input 29\n",
            "itr_input 30\n",
            "itr_input 31\n",
            "itr_input 32\n",
            "itr_input 33\n",
            "itr_input 34\n",
            "itr_input 35\n",
            "itr_input 36\n",
            "itr_input 37\n",
            "itr_input 38\n",
            "itr_input 39\n",
            "val Loss: 11.7524 Acc: 0.5425\n",
            "\n",
            "Epoch 3/4\n",
            "----------\n",
            "itr_epoch 4\n",
            "itr_phase 7\n",
            "itr_input 1\n",
            "itr_input 2\n",
            "itr_input 3\n",
            "itr_input 4\n",
            "itr_input 5\n",
            "itr_input 6\n",
            "itr_input 7\n",
            "itr_input 8\n",
            "itr_input 9\n",
            "itr_input 10\n",
            "itr_input 11\n",
            "itr_input 12\n",
            "itr_input 13\n",
            "itr_input 14\n",
            "itr_input 15\n",
            "itr_input 16\n",
            "itr_input 17\n",
            "itr_input 18\n",
            "itr_input 19\n",
            "itr_input 20\n",
            "itr_input 21\n",
            "itr_input 22\n",
            "itr_input 23\n",
            "itr_input 24\n",
            "itr_input 25\n",
            "itr_input 26\n",
            "itr_input 27\n",
            "itr_input 28\n",
            "itr_input 29\n",
            "itr_input 30\n",
            "itr_input 31\n",
            "itr_input 32\n",
            "itr_input 33\n",
            "itr_input 34\n",
            "itr_input 35\n",
            "itr_input 36\n",
            "itr_input 37\n",
            "itr_input 38\n",
            "itr_input 39\n",
            "itr_input 40\n",
            "itr_input 41\n",
            "itr_input 42\n",
            "itr_input 43\n",
            "itr_input 44\n",
            "itr_input 45\n",
            "itr_input 46\n",
            "itr_input 47\n",
            "itr_input 48\n",
            "itr_input 49\n",
            "itr_input 50\n",
            "itr_input 51\n",
            "itr_input 52\n",
            "itr_input 53\n",
            "itr_input 54\n",
            "itr_input 55\n",
            "itr_input 56\n",
            "itr_input 57\n",
            "itr_input 58\n",
            "itr_input 59\n",
            "itr_input 60\n",
            "itr_input 61\n",
            "train Loss: 3.8841 Acc: 0.4754\n",
            "itr_phase 8\n",
            "itr_input 1\n",
            "itr_input 2\n",
            "itr_input 3\n",
            "itr_input 4\n",
            "itr_input 5\n",
            "itr_input 6\n",
            "itr_input 7\n",
            "itr_input 8\n",
            "itr_input 9\n",
            "itr_input 10\n",
            "itr_input 11\n",
            "itr_input 12\n",
            "itr_input 13\n",
            "itr_input 14\n",
            "itr_input 15\n",
            "itr_input 16\n",
            "itr_input 17\n",
            "itr_input 18\n",
            "itr_input 19\n",
            "itr_input 20\n",
            "itr_input 21\n",
            "itr_input 22\n",
            "itr_input 23\n",
            "itr_input 24\n",
            "itr_input 25\n",
            "itr_input 26\n",
            "itr_input 27\n",
            "itr_input 28\n",
            "itr_input 29\n",
            "itr_input 30\n",
            "itr_input 31\n",
            "itr_input 32\n",
            "itr_input 33\n",
            "itr_input 34\n",
            "itr_input 35\n",
            "itr_input 36\n",
            "itr_input 37\n",
            "itr_input 38\n",
            "itr_input 39\n",
            "val Loss: 3.3307 Acc: 0.5425\n",
            "\n",
            "Epoch 4/4\n",
            "----------\n",
            "itr_epoch 5\n",
            "itr_phase 9\n",
            "itr_input 1\n",
            "itr_input 2\n",
            "itr_input 3\n",
            "itr_input 4\n",
            "itr_input 5\n",
            "itr_input 6\n",
            "itr_input 7\n",
            "itr_input 8\n",
            "itr_input 9\n",
            "itr_input 10\n",
            "itr_input 11\n",
            "itr_input 12\n",
            "itr_input 13\n",
            "itr_input 14\n",
            "itr_input 15\n",
            "itr_input 16\n",
            "itr_input 17\n",
            "itr_input 18\n",
            "itr_input 19\n",
            "itr_input 20\n",
            "itr_input 21\n",
            "itr_input 22\n",
            "itr_input 23\n",
            "itr_input 24\n",
            "itr_input 25\n",
            "itr_input 26\n",
            "itr_input 27\n",
            "itr_input 28\n",
            "itr_input 29\n",
            "itr_input 30\n",
            "itr_input 31\n",
            "itr_input 32\n",
            "itr_input 33\n",
            "itr_input 34\n",
            "itr_input 35\n",
            "itr_input 36\n",
            "itr_input 37\n",
            "itr_input 38\n",
            "itr_input 39\n",
            "itr_input 40\n",
            "itr_input 41\n",
            "itr_input 42\n",
            "itr_input 43\n",
            "itr_input 44\n",
            "itr_input 45\n",
            "itr_input 46\n",
            "itr_input 47\n",
            "itr_input 48\n",
            "itr_input 49\n",
            "itr_input 50\n",
            "itr_input 51\n",
            "itr_input 52\n",
            "itr_input 53\n",
            "itr_input 54\n",
            "itr_input 55\n",
            "itr_input 56\n",
            "itr_input 57\n",
            "itr_input 58\n",
            "itr_input 59\n",
            "itr_input 60\n",
            "itr_input 61\n",
            "train Loss: 3.7259 Acc: 0.5164\n",
            "itr_phase 10\n",
            "itr_input 1\n",
            "itr_input 2\n",
            "itr_input 3\n",
            "itr_input 4\n",
            "itr_input 5\n",
            "itr_input 6\n",
            "itr_input 7\n",
            "itr_input 8\n",
            "itr_input 9\n",
            "itr_input 10\n",
            "itr_input 11\n",
            "itr_input 12\n",
            "itr_input 13\n",
            "itr_input 14\n",
            "itr_input 15\n",
            "itr_input 16\n",
            "itr_input 17\n",
            "itr_input 18\n",
            "itr_input 19\n",
            "itr_input 20\n",
            "itr_input 21\n",
            "itr_input 22\n",
            "itr_input 23\n",
            "itr_input 24\n",
            "itr_input 25\n",
            "itr_input 26\n",
            "itr_input 27\n",
            "itr_input 28\n",
            "itr_input 29\n",
            "itr_input 30\n",
            "itr_input 31\n",
            "itr_input 32\n",
            "itr_input 33\n",
            "itr_input 34\n",
            "itr_input 35\n",
            "itr_input 36\n",
            "itr_input 37\n",
            "itr_input 38\n",
            "itr_input 39\n",
            "val Loss: 23.3268 Acc: 0.5425\n",
            "\n",
            "Training complete in 6m 53s\n",
            "Best val Acc: 0.542484\n",
            "label tensor([0, 0, 0, 0])\n"
          ],
          "name": "stdout"
        },
        {
          "output_type": "display_data",
          "data": {
            "image/png": "[encoded data removed]",
            "text/plain": [
              "<Figure size 432x288 with 1 Axes>"
            ]
          },
          "metadata": {
            "tags": []
          }
        },
        {
          "output_type": "display_data",
          "data": {
            "image/png": "[encoded data removed]",
            "text/plain": [
              "<Figure size 432x288 with 1 Axes>"
            ]
          },
          "metadata": {
            "tags": []
          }
        },
        {
          "output_type": "display_data",
          "data": {
            "image/png": "[encoded data removed]",
            "text/plain": [
              "<Figure size 432x288 with 1 Axes>"
            ]
          },
          "metadata": {
            "tags": []
          }
        },
        {
          "output_type": "display_data",
          "data": {
            "image/png": "[encoded data removed]",
            "text/plain": [
              "<Figure size 432x288 with 1 Axes>"
            ]
          },
          "metadata": {
            "tags": []
          }
        },
        {
          "output_type": "stream",
          "text": [
            "label tensor([0, 0, 0, 0])\n"
          ],
          "name": "stdout"
        },
        {
          "output_type": "display_data",
          "data": {
            "image/png": "[encoded data removed]",
            "text/plain": [
              "<Figure size 432x288 with 1 Axes>"
            ]
          },
          "metadata": {
            "tags": []
          }
        },
        {
          "output_type": "display_data",
          "data": {
            "image/png": "[encoded data removed]",
            "text/plain": [
              "<Figure size 432x288 with 1 Axes>"
            ]
          },
          "metadata": {
            "tags": []
          }
        },
        {
          "output_type": "display_data",
          "data": {
            "image/png": "[encoded data removed]",
            "text/plain": [
              "<Figure size 432x288 with 1 Axes>"
            ]
          },
          "metadata": {
            "tags": []
          }
        },
        {
          "output_type": "display_data",
          "data": {
            "image/png": "[encoded data removed]",
            "text/plain": [
              "<Figure size 432x288 with 1 Axes>"
            ]
          },
          "metadata": {
            "tags": []
          }
        },
        {
          "output_type": "stream",
          "text": [
            "label tensor([0, 0, 0, 0])\n"
          ],
          "name": "stdout"
        },
        {
          "output_type": "display_data",
          "data": {
            "image/png": "[encoded data removed]",
            "text/plain": [
              "<Figure size 432x288 with 1 Axes>"
            ]
          },
          "metadata": {
            "tags": []
          }
        },
        {
          "output_type": "display_data",
          "data": {
            "image/png": "[encoded data removed]",
            "text/plain": [
              "<Figure size 432x288 with 1 Axes>"
            ]
          },
          "metadata": {
            "tags": []
          }
        },
        {
          "output_type": "display_data",
          "data": {
            "image/png": "[encoded data removed]",
            "text/plain": [
              "<Figure size 432x288 with 1 Axes>"
            ]
          },
          "metadata": {
            "tags": []
          }
        },
        {
          "output_type": "display_data",
          "data": {
            "image/png": "[encoded data removed]",
            "text/plain": [
              "<Figure size 432x288 with 1 Axes>"
            ]
          },
          "metadata": {
            "tags": []
          }
        },
        {
          "output_type": "stream",
          "text": [
            "label tensor([0, 0, 0, 0])\n"
          ],
          "name": "stdout"
        },
        {
          "output_type": "display_data",
          "data": {
            "image/png": "[encoded data removed]",
            "text/plain": [
              "<Figure size 432x288 with 1 Axes>"
            ]
          },
          "metadata": {
            "tags": []
          }
        },
        {
          "output_type": "display_data",
          "data": {
            "image/png": "[encoded data removed]",
            "text/plain": [
              "<Figure size 432x288 with 1 Axes>"
            ]
          },
          "metadata": {
            "tags": []
          }
        },
        {
          "output_type": "display_data",
          "data": {
            "image/png": "[encoded data removed]",
            "text/plain": [
              "<Figure size 432x288 with 1 Axes>"
            ]
          },
          "metadata": {
            "tags": []
          }
        },
        {
          "output_type": "display_data",
          "data": {
            "image/png": "[encoded data removed]",
            "text/plain": [
              "<Figure size 432x288 with 1 Axes>"
            ]
          },
          "metadata": {
            "tags": []
          }
        },
        {
          "output_type": "stream",
          "text": [
            "label tensor([0, 0, 0, 0])\n"
          ],
          "name": "stdout"
        },
        {
          "output_type": "display_data",
          "data": {
            "image/png": "[encoded data removed]",
            "text/plain": [
              "<Figure size 432x288 with 1 Axes>"
            ]
          },
          "metadata": {
            "tags": []
          }
        },
        {
          "output_type": "display_data",
          "data": {
            "image/png": "[encoded data removed]",
            "text/plain": [
              "<Figure size 432x288 with 1 Axes>"
            ]
          },
          "metadata": {
            "tags": []
          }
        },
        {
          "output_type": "display_data",
          "data": {
            "image/png": "[encoded data removed]",
            "text/plain": [
              "<Figure size 432x288 with 1 Axes>"
            ]
          },
          "metadata": {
            "tags": []
          }
        },
        {
          "output_type": "display_data",
          "data": {
            "image/png": "[encoded data removed]",
            "text/plain": [
              "<Figure size 432x288 with 1 Axes>"
            ]
          },
          "metadata": {
            "tags": []
          }
        }
      ]
    }
  ]
}